{
 "cells": [
  {
   "cell_type": "code",
   "execution_count": null,
   "id": "f2d6f490",
   "metadata": {},
   "outputs": [],
   "source": [
    "#variable is the container for store data \n",
    "x=2 #so x in container to store 2\n",
    "#Variables do not need to be declared with any particular type, and can even change type after they have been set.\n",
    "x=5\n",
    "x=\"naseem\"\n",
    "print(x)\n",
    "print(type(x))\n",
    "#Case-Sensitive\n",
    "#Variable names are case-sensitive.\n",
    "y=6\n",
    "Y=5\n",
    "print(y)\n",
    "print(Y)"
   ]
  },
  {
   "cell_type": "code",
   "execution_count": 17,
   "id": "6e5f9d9b",
   "metadata": {},
   "outputs": [
    {
     "name": "stdout",
     "output_type": "stream",
     "text": [
      "<class 'str'>\n",
      "<class 'complex'>\n",
      "<class 'tuple'>\n"
     ]
    }
   ],
   "source": [
    "#Built-in Data Types\n",
    "# Text Type:\tstr\n",
    "# Numeric Types:\tint, float, complex\n",
    "# Sequence Types:\tlist, tuple, range\n",
    "# Mapping Type:\tdict\n",
    "# Set Types:\tset, frozenset\n",
    "# Boolean Type:\tbool\n",
    "# Binary Types:\tbytes, bytearray, memoryview\n",
    "# None Type:\tNoneType\n",
    "\n",
    "x = \"Hello World\"\n",
    "x1 = 20\n",
    "x2 = 20.5\n",
    "x3 = 1j\n",
    "x4 = [\"apple\", \"banana\", \"cherry\"]\n",
    "x5 = (\"apple\", \"banana\", \"cherry\")\n",
    "x6 = range(6)\n",
    "x7 = {\"name\" : \"John\", \"age\" : 36}\n",
    "x8 = {\"apple\", \"banana\", \"cherry\"}\n",
    "x9 = frozenset({\"apple\", \"banana\", \"cherry\"})\n",
    "x0 = True\n",
    "x10 = b\"Hello\"\n",
    "x11 = bytearray(5)\n",
    "x12 = memoryview(bytes(5))\n",
    "x13 = None\n",
    "\n",
    "print(type(x))\n",
    "\n",
    "print(type(x3))\n",
    "\n",
    "print(type(x5))\n"
   ]
  },
  {
   "cell_type": "code",
   "execution_count": 18,
   "id": "52b04704",
   "metadata": {},
   "outputs": [
    {
     "name": "stdout",
     "output_type": "stream",
     "text": [
      "<class 'int'>\n",
      "<class 'int'>\n",
      "<class 'int'>\n"
     ]
    }
   ],
   "source": [
    "#Int\n",
    "#Int, or integer, is a whole number, positive or negative, without decimals, of unlimited length.\n",
    "x = 1\n",
    "y = 35656222554887711\n",
    "z = -3255522\n",
    "print(type(x))\n",
    "print(type(y))\n",
    "print(type(z))"
   ]
  },
  {
   "cell_type": "code",
   "execution_count": 19,
   "id": "a8cd9b3f",
   "metadata": {},
   "outputs": [],
   "source": [
    "# Casting in python is therefore done using constructor functions:\n",
    "# int() - constructs an integer number from an integer literal, a float literal (by removing all decimals), \n",
    "# or a string literal (providing the string represents a whole number)\n",
    "# float() - constructs a float number from an integer literal, a float literal or a string literal \n",
    "# (providing the string represents a float or an integer)\n",
    "# str() - constructs a string from a wide variety of data types, including strings, integer literals and float literals"
   ]
  },
  {
   "cell_type": "code",
   "execution_count": 40,
   "id": "06a992a3",
   "metadata": {},
   "outputs": [
    {
     "name": "stdout",
     "output_type": "stream",
     "text": [
      "e\n",
      "b\n",
      "a\n",
      "n\n",
      "a\n",
      "n\n",
      "a\n",
      "13\n",
      "True\n",
      "True\n",
      "llo\n",
      "Hello\n",
      "llo, World!\n",
      "HELLO, WORLD!\n",
      "Hello, World!\n",
      " Hello, World! \n",
      "My name is John, I am 36\n",
      "My name is John, and I am 36\n",
      "I want 3 pieces of item 567 for 49.95 dollars.\n"
     ]
    }
   ],
   "source": [
    "# Strings are Arrays\n",
    "a = \"Hello, World!\"\n",
    "print(a[1])\n",
    "\n",
    "#Looping Through a String\n",
    "for x in \"banana\":\n",
    "    print(x)\n",
    "    \n",
    "#String Length\n",
    "#To get the length of a string, use the len() function.\n",
    "print(len(a))\n",
    "\n",
    "#check in string \n",
    "txt = \"The best things in life are free!\"\n",
    "print(\"free\" in txt)\n",
    "\n",
    "#Check if NOT\n",
    "txt1 = \"The best things in life are free!\"\n",
    "print(\"expensive\" not in txt1)\n",
    "\n",
    "# Slicing\n",
    "# You can return a range of characters by using the slice syntax.\n",
    "#Get the characters from position 2 to position 5 (not included):\n",
    "b = \"Hello, World!\"\n",
    "print(b[2:5])\n",
    "\n",
    "#Get the characters from the start to position 5 (not included):\n",
    "b1 = \"Hello, World!\"\n",
    "print(b1[:5])\n",
    "\n",
    "#Get the characters from position 2, and all the way to the end:\n",
    "b2 = \"Hello, World!\"\n",
    "print(b2[2:])\n",
    "\n",
    "#The upper() method returns the string in upper case:\n",
    "a1 = \"Hello, World!\"\n",
    "print(a1.upper())\n",
    "\n",
    "#Remove Whitespace\n",
    "#The strip() method removes any whitespace from the beginning or the end:\n",
    "\n",
    "a2 = \" Hello, World! \"\n",
    "print(a2.strip()) # returns \"Hello, World!\"\n",
    "print(a2)\n",
    "\n",
    "#String Format\n",
    "#As we learned in the Python Variables chapter, we cannot combine strings and numbers like this:\n",
    "age = \"36\" #int 36\n",
    "txt2 = \"My name is John, I am \" + age\n",
    "print(txt2)\n",
    "# But we can combine strings and numbers by using the format() method!\n",
    "# The format() method takes the passed arguments, formats them, and places them in the string where the placeholders {} are:\n",
    "age = 36\n",
    "txt = \"My name is John, and I am {}\"\n",
    "print(txt.format(age))\n",
    "\n",
    "quantity = 3\n",
    "itemno = 567\n",
    "price = 49.95\n",
    "myorder = \"I want {} pieces of item {} for {} dollars.\"\n",
    "print(myorder.format(quantity, itemno, price))"
   ]
  },
  {
   "cell_type": "code",
   "execution_count": 9,
   "id": "2cb26bd6",
   "metadata": {},
   "outputs": [
    {
     "name": "stdout",
     "output_type": "stream",
     "text": [
      "['apple', 'banana', 'cherry', 'orange']\n",
      "['apple', 'orange', 'banana', 'cherry', 'orange']\n",
      "apple\n",
      "orange\n",
      "banana\n",
      "cherry\n",
      "orange\n",
      "apple\n",
      "orange\n",
      "banana\n",
      "cherry\n",
      "orange\n",
      "apple\n",
      "banana\n",
      "cherry\n"
     ]
    }
   ],
   "source": [
    "#Python - Add List Items with append\n",
    "thislist = [\"apple\", \"banana\", \"cherry\"]\n",
    "thislist.append(\"orange\") # append add with end \n",
    "print(thislist)\n",
    "\n",
    "#Python - Add List Items with insert\n",
    "thislist.insert(1, \"orange\")\n",
    "print(thislist)\n",
    "\n",
    "#Loop Through a List\n",
    "for x in thislist:\n",
    "    print(x)\n",
    "    \n",
    "#Loop Through the Index Numbers\n",
    "#Use the range() and len() functions to create a suitable iterable. For Loop\n",
    "for i in range(len(thislist)):\n",
    "    print(thislist[i])\n",
    "    \n",
    "#While Loop\n",
    "thislist1 = [\"apple\", \"banana\", \"cherry\"]\n",
    "i=0\n",
    "while i<len(thislist1):\n",
    "    print(thislist1[i])\n",
    "    i=i+1"
   ]
  },
  {
   "cell_type": "code",
   "execution_count": 22,
   "id": "55fccdc8",
   "metadata": {},
   "outputs": [
    {
     "name": "stdout",
     "output_type": "stream",
     "text": [
      "['apple', 'banana', 'mango']\n",
      "['banana', 'cherry', 'kiwi', 'mango']\n",
      "['apple', 'banana', 'cherry', 'kiwi', 'mango']\n",
      "[0, 1, 2, 3, 4, 5, 6, 7, 8, 9]\n",
      "[0, 1, 2, 3, 4]\n",
      "['apple', 'orange', 'cherry', 'kiwi', 'mango']\n",
      "['apple', 'banana', 'cherry', 'kiwi', 'mango']\n"
     ]
    }
   ],
   "source": [
    "# List Comprehension\n",
    "# List comprehension offers a shorter syntax when you want to create a new list based on the values of an existing list.\n",
    "fruits = [\"apple\", \"banana\", \"cherry\", \"kiwi\", \"mango\"]\n",
    "newlist = []\n",
    "\n",
    "for x in fruits:\n",
    "    if \"a\" in x:\n",
    "        newlist.append(x)\n",
    "\n",
    "print(newlist)\n",
    "\n",
    "#This Example Using List Comprehension\n",
    "list1=[x for x in fruits if x!=\"apple\"]\n",
    "print(list1)\n",
    "list2=[x for x in fruits]\n",
    "print(list2)\n",
    "\n",
    "newlist1 = [x for x in range(10)]\n",
    "print(newlist1)\n",
    "newlist2 = [x for x in range(10) if x < 5]\n",
    "print(newlist2)\n",
    "\n",
    "fruits1 = [\"apple\", \"banana\", \"cherry\", \"kiwi\", \"mango\"]\n",
    "newlist3 = [x if x != \"banana\" else \"orange\" for x in fruits1]\n",
    "print(newlist3)\n",
    "mylist=list(fruits1)\n",
    "print(mylist)"
   ]
  },
  {
   "cell_type": "code",
   "execution_count": 2,
   "id": "1a0d73de",
   "metadata": {},
   "outputs": [
    {
     "name": "stdout",
     "output_type": "stream",
     "text": [
      "1\n",
      "2\n",
      "3\n"
     ]
    }
   ],
   "source": [
    "#The while Loop with Break kwyword\n",
    "i=1\n",
    "while i<10:\n",
    "    print(i)\n",
    "    if i==3:\n",
    "        break\n",
    "    i=i+1"
   ]
  },
  {
   "cell_type": "code",
   "execution_count": 1,
   "id": "a248dedb",
   "metadata": {},
   "outputs": [
    {
     "name": "stdout",
     "output_type": "stream",
     "text": [
      "Hello from a function\n"
     ]
    }
   ],
   "source": [
    "#Python Functions Simple Calling Function\n",
    "def my_function():\n",
    "    print(\"Hello from a function\")\n",
    "my_function()\n"
   ]
  },
  {
   "cell_type": "code",
   "execution_count": 8,
   "id": "cf0bd995",
   "metadata": {},
   "outputs": [
    {
     "name": "stdout",
     "output_type": "stream",
     "text": [
      "6\n"
     ]
    }
   ],
   "source": [
    "def my_func(a,b):\n",
    "    return a+b\n",
    "x=my_func(2,4)\n",
    "print(x)\n"
   ]
  },
  {
   "cell_type": "code",
   "execution_count": 15,
   "id": "6d3e3186",
   "metadata": {},
   "outputs": [
    {
     "name": "stdout",
     "output_type": "stream",
     "text": [
      "apple\n",
      "banana\n",
      "orange\n"
     ]
    }
   ],
   "source": [
    "def my(food):\n",
    "    for i in food:\n",
    "        print(i)\n",
    "food=[\"apple\",\"banana\",\"orange\"]\n",
    "my(food)\n"
   ]
  },
  {
   "cell_type": "code",
   "execution_count": 21,
   "id": "6fed9f93",
   "metadata": {},
   "outputs": [
    {
     "name": "stdout",
     "output_type": "stream",
     "text": [
      "enter number A 34\n",
      "enter number B 54\n",
      "88\n"
     ]
    }
   ],
   "source": [
    "#Python Lambda \n",
    "#Add two Number With Lambda function\n",
    "a=int(input(\"enter number A \"))\n",
    "b=int(input(\"enter number B \"))\n",
    "x=lambda a,b:a+b\n",
    "print(x(a,b))"
   ]
  },
  {
   "cell_type": "code",
   "execution_count": 1,
   "id": "104896d3",
   "metadata": {},
   "outputs": [
    {
     "name": "stdout",
     "output_type": "stream",
     "text": [
      "25\n"
     ]
    }
   ],
   "source": [
    "def my_func(n):\n",
    "    return lambda a:a*n\n",
    "a=my_func(5)\n",
    "print(a(5))"
   ]
  },
  {
   "cell_type": "code",
   "execution_count": 33,
   "id": "d23790bf",
   "metadata": {},
   "outputs": [
    {
     "name": "stdout",
     "output_type": "stream",
     "text": [
      "Now File has more content Hello Python\n"
     ]
    }
   ],
   "source": [
    "f=open('C:\\\\Users\\\\Mohd Naseem\\\\Desktop\\python.txt','rt')\n",
    "print(f.read())"
   ]
  },
  {
   "cell_type": "code",
   "execution_count": 30,
   "id": "e95be93f",
   "metadata": {},
   "outputs": [],
   "source": [
    "f=open('C:\\\\Users\\\\Mohd Naseem\\\\Desktop\\python.txt','a')\n",
    "f.write(\"Now File has more content \")\n",
    "f.close()"
   ]
  },
  {
   "cell_type": "code",
   "execution_count": 32,
   "id": "6f23b841",
   "metadata": {},
   "outputs": [],
   "source": [
    "f=open('C:\\\\Users\\\\Mohd Naseem\\\\Desktop\\python.txt','w')\n",
    "f.write(\"Now File has more content Hello Python\")\n",
    "f.close()"
   ]
  },
  {
   "cell_type": "code",
   "execution_count": 47,
   "id": "c5c78bc7",
   "metadata": {},
   "outputs": [],
   "source": [
    "f=open('C:\\\\Users\\\\Mohd Naseem\\\\Desktop\\myfile.txt','x')"
   ]
  },
  {
   "cell_type": "code",
   "execution_count": 51,
   "id": "e98a647d",
   "metadata": {},
   "outputs": [],
   "source": [
    "f=open('C:\\\\Users\\\\Mohd Naseem\\\\Desktop\\myfile.txt','w')\n",
    "f.write(\"hebhghrgewrhwvr\")\n",
    "f.close()"
   ]
  },
  {
   "cell_type": "code",
   "execution_count": 49,
   "id": "50b597ca",
   "metadata": {},
   "outputs": [
    {
     "name": "stdout",
     "output_type": "stream",
     "text": [
      "hebhghrgewrhwvr\n"
     ]
    }
   ],
   "source": [
    "f=open('C:\\\\Users\\\\Mohd Naseem\\\\Desktop\\myfile.txt','r')\n",
    "print(f.read())"
   ]
  },
  {
   "cell_type": "code",
   "execution_count": 52,
   "id": "e44f4b7e",
   "metadata": {},
   "outputs": [],
   "source": [
    "import os\n",
    "os.remove('C:\\\\Users\\\\Mohd Naseem\\\\Desktop\\myfile.txt')"
   ]
  },
  {
   "cell_type": "code",
   "execution_count": 54,
   "id": "2ca6495e",
   "metadata": {},
   "outputs": [
    {
     "name": "stdout",
     "output_type": "stream",
     "text": [
      "The file does not exist\n"
     ]
    }
   ],
   "source": [
    "import os\n",
    "if os.path.exists(\"demofile.txt\"):\n",
    "    os.remove(\"demofile.txt\")\n",
    "else:\n",
    "    print(\"The file does not exist\")"
   ]
  },
  {
   "cell_type": "code",
   "execution_count": null,
   "id": "ee7c7f82",
   "metadata": {},
   "outputs": [],
   "source": []
  }
 ],
 "metadata": {
  "kernelspec": {
   "display_name": "Python 3 (ipykernel)",
   "language": "python",
   "name": "python3"
  },
  "language_info": {
   "codemirror_mode": {
    "name": "ipython",
    "version": 3
   },
   "file_extension": ".py",
   "mimetype": "text/x-python",
   "name": "python",
   "nbconvert_exporter": "python",
   "pygments_lexer": "ipython3",
   "version": "3.9.2"
  }
 },
 "nbformat": 4,
 "nbformat_minor": 5
}
