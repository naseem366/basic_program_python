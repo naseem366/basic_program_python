{
 "cells": [
  {
   "cell_type": "code",
   "execution_count": null,
   "metadata": {},
   "outputs": [],
   "source": [
    "f=open(\"zamato_data/complete2021-08-20.csv\")\n",
    "links=[]\n",
    "for x in f:\n",
    "    links.append(x.replace(\",\",\"\").replace(\"\\n\",\"\"))"
   ]
  },
  {
   "cell_type": "code",
   "execution_count": null,
   "metadata": {},
   "outputs": [],
   "source": [
    "links"
   ]
  },
  {
   "cell_type": "code",
   "execution_count": null,
   "metadata": {},
   "outputs": [],
   "source": [
    "import requests\n",
    "from bs4 import BeautifulSoup\n",
    "URL = \"https://www.zomato.com/dubai\"\n",
    "headers = {'User-Agent': 'Mozilla/5.0 (X11; Linux x86_64; rv:89.0) Gecko/20100101 Firefox/89.0'}\n",
    "cookies = {\"AWSALBTG\":\"Qk8nb58rGC6eH+LEHI6eIFTZmN8lGnpvX8Lo/RN4OD3+pCvEQtv1lFXCjN1VoBsJspTZDiBWij14aaR/aqm1oEnLwpHDg/O6Woal44WSscWOmiy6JcvlAr7B+jVos8iS8UHv4M95zqhYknLqnfJHgLeWYCg46MvAhGzJ6dS1f8rI\",\"AWSALBTGCORS\":\"Qk8nb58rGC6eH+LEHI6eIFTZmN8lGnpvX8Lo/RN4OD3+pCvEQtv1lFXCjN1VoBsJspTZDiBWij14aaR/aqm1oEnLwpHDg/O6Woal44WSscWOmiy6JcvlAr7B+jVos8iS8UHv4M95zqhYknLqnfJHgLeWYCg46MvAhGzJ6dS1f8rI\", \"csrf\":\"126a31142b6385c404cc7454b02573ae\",\"fbcity\":\"57\",\"fre\":\"0\",\"rd\":\"1380000\" ,\"zl\":\"en\", \"fbtrack\":\"5d9b4c8f54bc7710d5ef6399c97c5b65\",\"ltv\":\"57\" ,\"lty\":\"city\", \"locus\":\"%7B%22addressId%22%3A0%2C%22lat%22%3A24.404153%2C%22lng%22%3A54.500334%2C%22cityId%22%3A57%2C%22ltv%22%3A57%2C%22lty%22%3A%22city%22%2C%22fetchFromGoogle%22%3Afalse%2C%22dszId%22%3A5567%2C%22fen%22%3A%22Abu+Dhabi%22%7D\", \"PHPSESSID\":\"850a3db1b2c821fd4a1940d9ded3c2c9\" ,\"expab\":\"1\",\"session_id\":\"6625547f344b3-7372-4847-b43d-4c3dc0ab16b2\", \"dpr\":\"1\", \"G_ENABLED_IDPS\":\"google\"}\n",
    "page=requests.get(URL,headers=headers)\n",
    "soup = BeautifulSoup(page.content, \"html.parser\")\n",
    "soup_body=soup.find(\"body\")"
   ]
  },
  {
   "cell_type": "code",
   "execution_count": null,
   "metadata": {},
   "outputs": [],
   "source": [
    "import re\n",
    "all_city_links=[]\n",
    "zamoto_cityO=soup_body.find_all(\"div\",class_=\"sc-bke1zw-0\")\n",
    "for x in zamoto_cityO[2].find_all(\"a\"):\n",
    "    all_city_links.append(x.get(\"href\"))"
   ]
  },
  {
   "cell_type": "code",
   "execution_count": null,
   "metadata": {},
   "outputs": [],
   "source": [
    "all_city_links_with_page=[]\n",
    "for zx in all_city_links:\n",
    "    for xx in range(1,507):\n",
    "        link=zx+\"?page=\"+str(xx)\n",
    "#         if requests.get(link,headers=headers,cookies=cookies).status_code == 200:\n",
    "        all_city_links_with_page.append(link)"
   ]
  },
  {
   "cell_type": "code",
   "execution_count": null,
   "metadata": {},
   "outputs": [],
   "source": [
    "import json \n",
    "from csv import writer\n",
    "from datetime import datetime\n",
    "rest_data=[]\n",
    "error_data=[]\n",
    "def get_data(initial,final):\n",
    "    print(initial)\n",
    "    rest_file=open(f\"zamato_data/final_resturent_zamato{str(datetime.now().date())}.csv\",'a')\n",
    "    writer_object = writer(rest_file)\n",
    "    rest_file_error=open(f\"zamato_data/error{str(datetime.now().date())}.csv\",'a')\n",
    "    complete_list_file=open(f\"zamato_data/complete{str(datetime.now().date())}.csv\",'a')\n",
    "    writer_object_error = writer(rest_file_error)\n",
    "    writer_complete_list_file = writer(complete_list_file)\n",
    "    for pageO in all_city_links_with_page[initial:final]:\n",
    "        writer_complete_list_file.writerow(pageO)\n",
    "        try:\n",
    "            city_pageO=requests.get(pageO,headers=headers,cookies=cookies)\n",
    "            city_soupO = BeautifulSoup(city_pageO.content, \"html.parser\")\n",
    "            city_soup_bodyO=city_soupO.find(\"body\")\n",
    "            resturent_data=city_soup_bodyO.find_all(\"div\",class_=\"search-snippet-card\")\n",
    "            for rest in resturent_data:\n",
    "                data=[]\n",
    "                rest_titleimage=rest.find(\"a\",\"feat-img\").get(\"data-original\").split(\"?\")[0]\n",
    "                rest_id=rest_titleimage.split(\"/\")[-2]\n",
    "                rest_mobile_number=rest.find(\"a\",class_=\"item res-snippet-ph-info\").get(\"data-phone-no-str\")\n",
    "                resturent_name=rest.find(\"a\",class_=\"result-title\").text.strip().split(\"-\")[0].strip()\n",
    "                resturent_link=rest.find(\"a\",class_=\"result-title\").get(\"href\")\n",
    "                \n",
    "                resturent_dining_rating_value=rest.find_all(\"span\",class_=\"rating-value\")\n",
    "                resturent_dining_rating_review_count=rest.find_all(\"span\",class_=\"review-count\")\n",
    "                if len(resturent_dining_rating_value)>1 and len(resturent_dining_rating_review_count)>1:\n",
    "                    try:\n",
    "                        dining_rating=resturent_dining_rating_value[0].text.strip().replace(\"(\",\"\").replace(\")\",\"\").replace(\"Reviews\",\"\").replace(\"(\",\"\")\n",
    "                    except:\n",
    "                        dining_rating=0\n",
    "                    try:    \n",
    "                        delivery_rating=resturent_dining_rating_value[1].text.strip().replace(\"(\",\"\").replace(\")\",\"\").replace(\"Reviews\",\"\").replace(\"(\",\"\")\n",
    "                    except:\n",
    "                        delivery_rating=0\n",
    "                    try:    \n",
    "                        dining_rating_people_count=resturent_dining_rating_review_count[0].text.strip().replace(\"Reviews\",\"\").replace(\"(\",\"\").replace(\")\",\"\")\n",
    "                    except:\n",
    "                        dining_rating_people_count=0\n",
    "                    try:    \n",
    "                        delivery_rating_people_count=resturent_dining_rating_review_count[1].text.strip().replace(\"(\",\"\").replace(\")\",\"\")\n",
    "                    except:\n",
    "                        delivery_rating_people_count=0\n",
    "                else:\n",
    "                    try:\n",
    "                        dining_rating=resturent_dining_rating_value[0].text.strip().replace(\"(\",\"\").replace(\")\",\"\").replace(\"Reviews\",\"\").replace(\"(\",\"\")\n",
    "                        delivery_rating=0\n",
    "                        dining_rating_people_count=resturent_dining_rating_review_count[0].text\n",
    "                        delivery_rating_people_count=0\n",
    "                    except:\n",
    "                        dining_rating=0\n",
    "                        delivery_rating=0\n",
    "                        dining_rating_people_count=0\n",
    "                        delivery_rating_people_count=0\n",
    "                        \n",
    "                        \n",
    "                resturent_in=rest.b.text\n",
    "                resturent_address=rest.find(\"div\",class_=\"search-result-address\").text\n",
    "                caous=[]\n",
    "                caousine=rest.find(\"span\",class_=\"nowrap\")\n",
    "                for x in caousine.find_all(\"a\"):\n",
    "                    caous.append(x.text)\n",
    "                cuisine=\",\".join(caous)\n",
    "                try:\n",
    "                    costoftwo=rest.find(\"div\",class_=\"res-cost\").find_all(\"span\")[-1].text.split(\" \")[-1]\n",
    "                except:\n",
    "                    costoftwo=\"\"\n",
    "                try:    \n",
    "                    hours = rest.find(\"div\",class_=\"search-grid-right-text\").text.strip()\n",
    "                except:\n",
    "                    hours=\"\"\n",
    "                try:    \n",
    "                    feat=rest.find(\"div\",class_=\"res-collections\").find_all(\"a\")    \n",
    "                    feature_in=[]\n",
    "                    for x in feat:\n",
    "                        feature_in.append(x.text)\n",
    "                    feature_=\",\".join(feature_in)\n",
    "                except:\n",
    "                    feature_=\"\"\n",
    "                try:\n",
    "                    di=rest.find_all(\"div\",class_=\"res-offers clearfix\")\n",
    "                    if len(di) != 0:\n",
    "                        for x in di:\n",
    "                            dis=x.find(\"span\").text\n",
    "                            if dis == \"Promotions:\":\n",
    "                                promotion=x.find(\"div\",class_=\"search-grid-right-text\").text.strip()\n",
    "                                tc=x.find(\"div\",class_=\"search-grid-right-text\").find(\"a\").get(\"data-html\").strip()\n",
    "                                break\n",
    "                            else:\n",
    "                                promotion=\"\"\n",
    "                                tc=\"\"\n",
    "                    else:            \n",
    "                        promotion=\"\"\n",
    "                        tc=\"\"\n",
    "\n",
    "                except:\n",
    "                    promotion=\"\"\n",
    "                    tc=\"\"\n",
    "                try:\n",
    "                    di=rest.find_all(\"div\",class_=\"res-offers clearfix\")\n",
    "                    for x in di:\n",
    "                        dis=x.find(\"span\").text\n",
    "                        if dis == \"Discount:\":\n",
    "                            discount=x.find(\"a\").text.strip()\n",
    "                            break\n",
    "                        else:\n",
    "                            discount=\"\"\n",
    "                    if len(di) == 0:    \n",
    "                            discount=\"\"          \n",
    "                except:\n",
    "                    discount=\"\"\n",
    "                rest_page=requests.get(resturent_link,headers=headers)\n",
    "                rest_soup = BeautifulSoup(rest_page.content, \"html.parser\")\n",
    "                rest_soup_body=rest_soup.find(\"body\")   \n",
    "                try:\n",
    "                    zamato_pro=rest.find(\"span\",class_=\"new_pro_res_tag\").text.strip()\n",
    "                    if zamato_pro == \"zomato pro\":\n",
    "                        offer=rest_soup_body.find_all(\"p\")[3].text\n",
    "                        description=rest_soup_body.find_all(\"p\")[4].text\n",
    "                    else:\n",
    "                        description=rest_soup_body.find_all(\"p\")[3].text\n",
    "                        offer=\"\"\n",
    "#                     print(offer)\n",
    "#                     print(description)\n",
    "                except:\n",
    "                    description=rest_soup_body.find_all(\"p\")[3].text     \n",
    "                    offer=\"\"\n",
    "#                 try:\n",
    "                for x in range(10,17):\n",
    "                    try:\n",
    "                        latitude,longitude=rest_soup_body.find_all(\"a\")[x].get(\"href\").split(\"=\")[-1].split(\",\")\n",
    "                        break\n",
    "                    except:\n",
    "                        latitude=\"\"\n",
    "                        longitude=\"\"\n",
    "                        \n",
    "                \n",
    "#                 except:\n",
    "#                     latitude=\"\"\n",
    "#                     longitude=\"\"\n",
    "                data.append(str(rest_id))\n",
    "                data.append(resturent_name)\n",
    "                data.append(cuisine)\n",
    "                data.append(rest_mobile_number)\n",
    "                data.append(resturent_in)\n",
    "                data.append(str(dining_rating))\n",
    "                data.append(str(dining_rating_people_count))\n",
    "                data.append(str(delivery_rating))\n",
    "                data.append(str(delivery_rating_people_count))\n",
    "                data.append(resturent_address)\n",
    "                data.append(str(costoftwo))\n",
    "                data.append(hours)\n",
    "                data.append(feature_)\n",
    "                data.append(promotion)\n",
    "                data.append(tc)\n",
    "                data.append(discount)\n",
    "                data.append(str(latitude))\n",
    "                data.append(str(longitude))\n",
    "                data.append(rest_titleimage)\n",
    "                data.append(resturent_link)\n",
    "                data.append(description)\n",
    "                data.append(offer)\n",
    "                writer_object.writerow(data)\n",
    "                print(resturent_link)\n",
    "                \n",
    "        except:\n",
    "            print(str(initial)+\"error\"+\"-----\"+str(len(rest_data)))\n",
    "            print(pageO)\n",
    "            writer_object_error.writerow([pageO])\n",
    "    rest_file.close()\n",
    "    rest_file_error.close()\n",
    "    complete_list_file.close()\n",
    "\n",
    "#         print(promo1)\n",
    "#         print(discount)\n",
    "#         print(tc)\n"
   ]
  },
  {
   "cell_type": "code",
   "execution_count": null,
   "metadata": {},
   "outputs": [],
   "source": [
    "import multiprocessing\n",
    "t1 = multiprocessing.Process(target=get_data, args=(0,500))\n",
    "t2 = multiprocessing.Process(target=get_data, args=(500,1000))\n",
    "t3 = multiprocessing.Process(target=get_data, args=(1000,1500))\n",
    "t4 = multiprocessing.Process(target=get_data, args=(1500,2000))\n",
    "t5 = multiprocessing.Process(target=get_data, args=(2000,2500))\n",
    "t6 = multiprocessing.Process(target=get_data, args=(2500,3136))\n",
    "\n",
    "t1.start()\n",
    "t2.start()\n",
    "t3.start()\n",
    "t4.start()\n",
    "t5.start()\n",
    "t6.start()\n",
    "\n",
    "t1.join()\n",
    "t2.join()\n",
    "t3.join()\n",
    "t4.join()\n",
    "t5.join()\n",
    "t6.join()"
   ]
  },
  {
   "cell_type": "code",
   "execution_count": null,
   "metadata": {},
   "outputs": [],
   "source": []
  },
  {
   "cell_type": "code",
   "execution_count": null,
   "metadata": {},
   "outputs": [],
   "source": [
    "import multiprocessing\n",
    "t1 = multiprocessing.Process(target=get_data, args=(0,250))\n",
    "t11 = multiprocessing.Process(target=get_data, args=(250,500))\n",
    "t111 = multiprocessing.Process(target=get_data, args=(500,750))\n",
    "t1111 = multiprocessing.Process(target=get_data, args=(750,1000))\n",
    "t2 = multiprocessing.Process(target=get_data, args=(1000,2500))\n",
    "t22 = multiprocessing.Process(target=get_data, args=(1000,2000))\n",
    "t222 = multiprocessing.Process(target=get_data, args=(2000,3000))\n",
    "t3 = multiprocessing.Process(target=get_data, args=(3000,4000))\n",
    "t4 = multiprocessing.Process(target=get_data, args=(4000,5000))\n",
    "t5 = multiprocessing.Process(target=get_data, args=(5000,6000))\n",
    "t55 = multiprocessing.Process(target=get_data, args=(6000,7000))\n",
    "t555 = multiprocessing.Process(target=get_data, args=(7000,8000))\n",
    "t6 = multiprocessing.Process(target=get_data, args=(8000,9000))\n",
    "t66 = multiprocessing.Process(target=get_data, args=(9000,10000))\n",
    "t7 = multiprocessing.Process(target=get_data, args=(10000,12000))\n",
    "t8 = multiprocessing.Process(target=get_data, args=(12000,12500))\n",
    "t88 = multiprocessing.Process(target=get_data, args=(12500,13000))\n",
    "t9 = multiprocessing.Process(target=get_data, args=(13000,13500))\n",
    "t99 = multiprocessing.Process(target=get_data, args=(13500,14000))\n",
    "t10 = multiprocessing.Process(target=get_data, args=(14000,14500))\n",
    "t100 = multiprocessing.Process(target=get_data, args=(14500,14700))\n",
    "t1000 = multiprocessing.Process(target=get_data, args=(14700,15180))\n",
    "\n",
    "\n",
    "\n",
    "\n",
    "# t2 = threading.Thread(target=get_data, args=(10,20))\n",
    "t1.start()\n",
    "t11.start()\n",
    "t111.start()\n",
    "t1111.start()\n",
    "t2.start()\n",
    "t22.start()\n",
    "t222.start()\n",
    "t3.start()\n",
    "t4.start()\n",
    "t5.start()\n",
    "t55.start()\n",
    "t555.start()\n",
    "t6.start()\n",
    "t66.start()\n",
    "t7.start()\n",
    "t8.start()\n",
    "t88.start()\n",
    "t9.start()\n",
    "t99.start()\n",
    "t10.start()\n",
    "t100.start()\n",
    "t1000.start()\n",
    "\n",
    "\n",
    "\n",
    "# starting thread 2\n",
    "# t2.start()\n",
    "\n",
    "# wait until thread 1 is completely executed\n",
    "t1.join()\n",
    "t11.join()\n",
    "t111.join()\n",
    "t1111.join()\n",
    "t2.join()\n",
    "t22.join()\n",
    "t222.join()\n",
    "t3.join()\n",
    "t4.join()\n",
    "t5.join()\n",
    "t55.join()\n",
    "t555.join()\n",
    "t6.join()\n",
    "t66.join()\n",
    "t7.join()\n",
    "t8.join()\n",
    "t88.join()\n",
    "t9.join()\n",
    "t99.join()\n",
    "t10.join()\n",
    "t100.join()\n",
    "t1000.join()\n",
    "\n",
    "\n",
    "# wait until thread 2 is completely executed\n",
    "# t2.join()\n",
    "\n",
    "# both threads completely executed\n",
    "print(\"Done!\")"
   ]
  },
  {
   "cell_type": "code",
   "execution_count": null,
   "metadata": {},
   "outputs": [],
   "source": [
    "import requests\n",
    "resturent_link=\"https://www.zomato.com/chaatbazaar\"\n",
    "des_page=requests.get(resturent_link,headers=headers,cookies=cookies)\n",
    "des_pageO=BeautifulSoup(des_page.content,\"html.parser\")\n",
    "des_pageO_body=des_pageO.find(\"body\")\n",
    "descriptions=des_pageO_body.find_all(\"script\")\n",
    "print(len(descriptions))\n",
    "descriptions[0]"
   ]
  },
  {
   "cell_type": "code",
   "execution_count": null,
   "metadata": {},
   "outputs": [],
   "source": [
    "columns=['Restaurant Id',\"Restaurant name\",\"Type of Restaurant\",\"Mobile number\",\"Restaurant In\",\"Dining Review\",\"Dining Review count\",\"Delivery Review\",'Delivery Review Count',\"Address\",\"Costoftwo\",\"Hours\",\"Feature\",\"Promotion\",\"tc\",\"Discount\",\"latitude\",\"longitude\",\"titleimage\",\"Restaurant link\"]\n",
    "import pandas as pd\n",
    "data=pd.DataFrame(rest_data,columns=columns).fillna(\"\")"
   ]
  },
  {
   "cell_type": "code",
   "execution_count": null,
   "metadata": {},
   "outputs": [],
   "source": [
    "data.to_excel(\"lati_and_long.xls\")"
   ]
  },
  {
   "cell_type": "code",
   "execution_count": null,
   "metadata": {},
   "outputs": [],
   "source": [
    "rest_file=open(\"lati_and_long.csv\",'a')\n",
    "rest_file.write(\"|||\".join(columns)+\"\\n\")\n",
    "for x in data.values:\n",
    "    rest_file.write(\"|||\".join(x)+\"\\n\")\n",
    "rest_file.close()    "
   ]
  },
  {
   "cell_type": "code",
   "execution_count": null,
   "metadata": {},
   "outputs": [],
   "source": [
    "from csv import writer\n",
    "columns=['Restaurant Id',\"Restaurant name\",\"Type of Restaurant\",\"Mobile number\",\"Restaurant In\",\"Dining Review\",\"Dining Review count\",\"Delivery Review\",'Delivery Review Count',\"Address\",\"Costoftwo\",\"Hours\",\"Feature\",\"Promotion\",\"tc\",\"Discount\",\"latitude\",\"longitude\",\"titleimage\",\"Restaurant link\"]\n",
    "rest_file=open(\"lati_and_long.csv\",'a')\n",
    "writer_object = writer(rest_file,delimiter = \"|||\")\n",
    "writer_object.writerow(columns)\n",
    "for x in rest_data:\n",
    "    writer_object.writerow(x)\n",
    "rest_file.close()    "
   ]
  },
  {
   "cell_type": "code",
   "execution_count": null,
   "metadata": {},
   "outputs": [],
   "source": [
    "import requests\n",
    "from bs4 import BeautifulSoup\n",
    "URL = \"https://www.zomato.com/chaatbazaar\"\n",
    "headers = {'User-Agent': 'Mozilla/5.0 (X11; Linux x86_64; rv:89.0) Gecko/20100101 Firefox/89.0'}\n",
    "cookies = {\"AWSALBTG\":\"Qk8nb58rGC6eH+LEHI6eIFTZmN8lGnpvX8Lo/RN4OD3+pCvEQtv1lFXCjN1VoBsJspTZDiBWij14aaR/aqm1oEnLwpHDg/O6Woal44WSscWOmiy6JcvlAr7B+jVos8iS8UHv4M95zqhYknLqnfJHgLeWYCg46MvAhGzJ6dS1f8rI\",\"AWSALBTGCORS\":\"Qk8nb58rGC6eH+LEHI6eIFTZmN8lGnpvX8Lo/RN4OD3+pCvEQtv1lFXCjN1VoBsJspTZDiBWij14aaR/aqm1oEnLwpHDg/O6Woal44WSscWOmiy6JcvlAr7B+jVos8iS8UHv4M95zqhYknLqnfJHgLeWYCg46MvAhGzJ6dS1f8rI\", \"csrf\":\"126a31142b6385c404cc7454b02573ae\",\"fbcity\":\"57\",\"fre\":\"0\",\"rd\":\"1380000\" ,\"zl\":\"en\", \"fbtrack\":\"5d9b4c8f54bc7710d5ef6399c97c5b65\",\"ltv\":\"57\" ,\"lty\":\"city\", \"locus\":\"%7B%22addressId%22%3A0%2C%22lat%22%3A24.404153%2C%22lng%22%3A54.500334%2C%22cityId%22%3A57%2C%22ltv%22%3A57%2C%22lty%22%3A%22city%22%2C%22fetchFromGoogle%22%3Afalse%2C%22dszId%22%3A5567%2C%22fen%22%3A%22Abu+Dhabi%22%7D\", \"PHPSESSID\":\"850a3db1b2c821fd4a1940d9ded3c2c9\" ,\"expab\":\"1\",\"session_id\":\"6625547f344b3-7372-4847-b43d-4c3dc0ab16b2\", \"dpr\":\"1\", \"G_ENABLED_IDPS\":\"google\"}\n",
    "rest_page=requests.get(URL,headers=headers)\n",
    "rest_soup = BeautifulSoup(rest_page.content, \"html.parser\")\n",
    "rest_soup_body=rest_soup.find(\"body\")"
   ]
  },
  {
   "cell_type": "code",
   "execution_count": null,
   "metadata": {},
   "outputs": [],
   "source": [
    "print(rest_soup_body.find(\"section\",class_=\"sc-ixltIz gYgmFw\"))"
   ]
  },
  {
   "cell_type": "code",
   "execution_count": null,
   "metadata": {},
   "outputs": [],
   "source": [
    "error_data"
   ]
  },
  {
   "cell_type": "code",
   "execution_count": null,
   "metadata": {},
   "outputs": [],
   "source": [
    "len(all_city_links_with_page)"
   ]
  },
  {
   "cell_type": "code",
   "execution_count": null,
   "metadata": {},
   "outputs": [],
   "source": [
    "total_page=len(all_city_links_with_page)\n",
    "for x in range(total_page):\n",
    "    if x % 100 == 0:\n",
    "        print(x)"
   ]
  },
  {
   "cell_type": "code",
   "execution_count": null,
   "metadata": {},
   "outputs": [],
   "source": [
    "new_sample_data=pd.DataFrame(rest_data)"
   ]
  },
  {
   "cell_type": "code",
   "execution_count": null,
   "metadata": {},
   "outputs": [],
   "source": [
    "error_data"
   ]
  },
  {
   "cell_type": "code",
   "execution_count": null,
   "metadata": {},
   "outputs": [],
   "source": [
    "import pandas as pd\n",
    "data=pd.DataFrame(rest_data,columns=['Restaurant Id',\"Restaurant name\",\"Type of Restaurant\",\"Mobile number\",\"Restaurant In\",\"Dining Review\",\"Dining Review count\",\"Delivery Review\",'Delivery Review Count',\"Address\",\"Costoftwo\",\"Hours\",\"Feature\",\"Promotion\",\"tc\",\"Discount\",\"latitude\",\"longitude\",\"titleimage\",\"Restaurant link\"])"
   ]
  },
  {
   "cell_type": "code",
   "execution_count": null,
   "metadata": {},
   "outputs": [],
   "source": [
    "data.to_csv(\"lati_and_long.csv\")"
   ]
  },
  {
   "cell_type": "code",
   "execution_count": null,
   "metadata": {},
   "outputs": [],
   "source": [
    "data.columns"
   ]
  },
  {
   "cell_type": "code",
   "execution_count": null,
   "metadata": {},
   "outputs": [],
   "source": [
    "import pandas as pd\n",
    "data=pd.read_csv(\"lati_and_long.csv\")"
   ]
  },
  {
   "cell_type": "code",
   "execution_count": null,
   "metadata": {},
   "outputs": [],
   "source": [
    "for x in data.values:\n",
    "    print(len(x))"
   ]
  },
  {
   "cell_type": "code",
   "execution_count": null,
   "metadata": {},
   "outputs": [],
   "source": [
    "from csv import reader\n",
    "data=open(\"lati_and_long.csv\",\"r\")\n",
    "csv_data=reader(data,delimiter=\"|||\")"
   ]
  },
  {
   "cell_type": "code",
   "execution_count": null,
   "metadata": {},
   "outputs": [],
   "source": [
    "for x in csv_data:\n",
    "    print(len(x))"
   ]
  },
  {
   "cell_type": "code",
   "execution_count": null,
   "metadata": {},
   "outputs": [],
   "source": [
    "data"
   ]
  },
  {
   "cell_type": "code",
   "execution_count": null,
   "metadata": {},
   "outputs": [],
   "source": [
    "print(\"DS\")"
   ]
  },
  {
   "cell_type": "code",
   "execution_count": null,
   "metadata": {},
   "outputs": [],
   "source": [
    "f=open(\"lati_and_long.xls\",\"r\")"
   ]
  },
  {
   "cell_type": "code",
   "execution_count": null,
   "metadata": {},
   "outputs": [],
   "source": [
    "for x in f.read().split(\"\\n\"):\n",
    "    print(len(x.split(\"|||\")))\n",
    "    print(x.split(\"|||\"))"
   ]
  },
  {
   "cell_type": "code",
   "execution_count": null,
   "metadata": {},
   "outputs": [],
   "source": [
    "f"
   ]
  },
  {
   "cell_type": "code",
   "execution_count": null,
   "metadata": {},
   "outputs": [],
   "source": [
    "pd.read_excel(\"lati_and_long.xls\").fillna(\"\").values"
   ]
  },
  {
   "cell_type": "code",
   "execution_count": null,
   "metadata": {},
   "outputs": [],
   "source": []
  },
  {
   "cell_type": "code",
   "execution_count": null,
   "metadata": {},
   "outputs": [],
   "source": [
    "import pandas as pd\n",
    "city_data=pd.read_csv(\"all_city.csv\")"
   ]
  },
  {
   "cell_type": "code",
   "execution_count": null,
   "metadata": {},
   "outputs": [],
   "source": [
    "city_data.iloc[:3000,1:5].to_csv(\"data_0_3000.csv\")\n",
    "city_data.iloc[3000:6000,1:5].to_csv(\"data_3000_6000.csv\")\n",
    "city_data.iloc[6000:9000,1:5].to_csv(\"data_6000_9000.csv\")\n",
    "city_data.iloc[9000:12000,1:5].to_csv(\"data_9000_12000.csv\")\n",
    "city_data.iloc[12000:15000,1:5].to_csv(\"data_12000_15000.csv\")\n",
    "city_data.iloc[15000:18000,1:5].to_csv(\"data_15000_18000.csv\")\n",
    "city_data.iloc[18000:21000,1:5].to_csv(\"data_18000_21000.csv\")\n",
    "city_data.iloc[21000:,1:5].to_csv(\"data_21000_end.csv\")"
   ]
  },
  {
   "cell_type": "code",
   "execution_count": null,
   "metadata": {},
   "outputs": [],
   "source": [
    "import pandas as pd\n",
    "data=pd.read_csv(\"nationlity.csv\")"
   ]
  },
  {
   "cell_type": "code",
   "execution_count": null,
   "metadata": {},
   "outputs": [],
   "source": [
    "data['nationality'].values"
   ]
  },
  {
   "cell_type": "code",
   "execution_count": null,
   "metadata": {},
   "outputs": [],
   "source": []
  },
  {
   "cell_type": "code",
   "execution_count": 17,
   "metadata": {},
   "outputs": [],
   "source": [
    "import pandas as pd\n",
    "datalist1=pd.read_csv(\"zamato_data/final_resturent_zamato2021-08-20.csv\")\n",
    "datalist2=pd.read_csv(\"zamato_data/final_resturent_zamatofinal_resturent_zamato2021-08-20.csv\")"
   ]
  },
  {
   "cell_type": "code",
   "execution_count": 21,
   "metadata": {},
   "outputs": [],
   "source": [
    "datalist=list(datalist1.values)+list(datalist2.values)"
   ]
  },
  {
   "cell_type": "code",
   "execution_count": 24,
   "metadata": {},
   "outputs": [],
   "source": [
    "data=pd.DataFrame(datalist)"
   ]
  },
  {
   "cell_type": "code",
   "execution_count": 31,
   "metadata": {},
   "outputs": [],
   "source": [
    "import pandas as pd\n",
    "d=pd.read_csv(\"zamato_data/final_resturent_zamato2021-08-20.csv\")"
   ]
  },
  {
   "cell_type": "code",
   "execution_count": 32,
   "metadata": {},
   "outputs": [],
   "source": [
    "columns=['Restaurant Id',\"Restaurant name\",\"Type of Restaurant\",\"Mobile number\",\"Restaurant In\",\"Dining Review\",\"Dining Review count\",\"Delivery Review\",'Delivery Review Count',\"Address\",\"Costoftwo\",\"Hours\",\"Feature\",\"Promotion\",\"tc\",\"Discount\",\"latitude\",\"longitude\",\"titleimage\",\"Restaurant link\",\"Decription\",\"offer\"]\n",
    "dataupload=pd.DataFrame(d.values[30000:31000],columns=columns)"
   ]
  },
  {
   "cell_type": "code",
   "execution_count": 33,
   "metadata": {},
   "outputs": [
    {
     "name": "stderr",
     "output_type": "stream",
     "text": [
      "<ipython-input-33-e6149a04368f>:1: FutureWarning: As the xlwt package is no longer maintained, the xlwt engine will be removed in a future version of pandas. This is the only engine in pandas that supports writing in the xls format. Install openpyxl and write to an xlsx file instead. You can set the option io.excel.xls.writer to 'xlwt' to silence this warning. While this option is deprecated and will also raise a warning, it can be globally set and the warning suppressed.\n",
      "  dataupload.to_excel(\"zamato_data/uploadzamato30000-31000.xls\")\n"
     ]
    }
   ],
   "source": [
    "dataupload.to_excel(\"zamato_data/uploadzamato30000-31000.xls\")"
   ]
  },
  {
   "cell_type": "code",
   "execution_count": 29,
   "metadata": {},
   "outputs": [],
   "source": [
    "d=pd.read_excel(\"zamato_data/uploadzamato.xls\")"
   ]
  },
  {
   "cell_type": "code",
   "execution_count": 30,
   "metadata": {},
   "outputs": [
    {
     "data": {
      "text/plain": [
       "23"
      ]
     },
     "execution_count": 30,
     "metadata": {},
     "output_type": "execute_result"
    }
   ],
   "source": [
    "len(d.values[0])"
   ]
  },
  {
   "cell_type": "code",
   "execution_count": null,
   "metadata": {},
   "outputs": [],
   "source": []
  }
 ],
 "metadata": {
  "kernelspec": {
   "display_name": "Python 3",
   "language": "python",
   "name": "python3"
  },
  "language_info": {
   "codemirror_mode": {
    "name": "ipython",
    "version": 3
   },
   "file_extension": ".py",
   "mimetype": "text/x-python",
   "name": "python",
   "nbconvert_exporter": "python",
   "pygments_lexer": "ipython3",
   "version": "3.8.10"
  }
 },
 "nbformat": 4,
 "nbformat_minor": 4
}
