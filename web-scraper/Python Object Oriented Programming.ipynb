{
 "cells": [
  {
   "cell_type": "code",
   "execution_count": 6,
   "id": "00a30b24",
   "metadata": {},
   "outputs": [
    {
     "name": "stdout",
     "output_type": "stream",
     "text": [
      "7\n"
     ]
    }
   ],
   "source": [
    "#Python Classes and Objects With simple class and Object\n",
    "class Person():\n",
    "    x=7\n",
    "p1=Person()\n",
    "print(p1.x)"
   ]
  },
  {
   "cell_type": "code",
   "execution_count": 17,
   "id": "e765dce0",
   "metadata": {},
   "outputs": [
    {
     "name": "stdout",
     "output_type": "stream",
     "text": [
      "Mohd Naseem\n"
     ]
    }
   ],
   "source": [
    "# The __init__() Function\n",
    "# All classes have a function called __init__(), which is always executed when the class is being initiated.\n",
    "# Use the __init__() function to assign values to object properties, or \n",
    "# other operations that are necessary to do when the object is being created:\n",
    "\n",
    "class Person():\n",
    "    def __init__(self,fname,lname):\n",
    "        self.fname=fname\n",
    "        self.lname=lname\n",
    "        print(fname,lname)\n",
    "    \n",
    "p1=Person(\"Mohd\",\"Naseem\")   "
   ]
  },
  {
   "cell_type": "code",
   "execution_count": 18,
   "id": "d225a13f",
   "metadata": {},
   "outputs": [
    {
     "name": "stdout",
     "output_type": "stream",
     "text": [
      "Mohd Naseem\n"
     ]
    }
   ],
   "source": [
    "class Person():\n",
    "    def __init__(self,fname,lname):\n",
    "        self.fname=fname\n",
    "        self.lname=lname\n",
    "    \n",
    "p1=Person(\"Mohd\",\"Naseem\")   \n",
    "print(p1.fname,p1.lname)"
   ]
  },
  {
   "cell_type": "code",
   "execution_count": 1,
   "id": "b07f8fe1",
   "metadata": {},
   "outputs": [
    {
     "name": "stdout",
     "output_type": "stream",
     "text": [
      "Hello Name is Naseem and age is 25\n",
      "Hello Name is Naseem and age is 40\n"
     ]
    },
    {
     "ename": "AttributeError",
     "evalue": "'Person' object has no attribute 'age'",
     "output_type": "error",
     "traceback": [
      "\u001b[0;31m---------------------------------------------------------------------------\u001b[0m",
      "\u001b[0;31mAttributeError\u001b[0m                            Traceback (most recent call last)",
      "Input \u001b[0;32mIn [1]\u001b[0m, in \u001b[0;36m<cell line: 22>\u001b[0;34m()\u001b[0m\n\u001b[1;32m     20\u001b[0m \u001b[38;5;66;03m#Delete Object Properties with del Keywords\u001b[39;00m\n\u001b[1;32m     21\u001b[0m \u001b[38;5;28;01mdel\u001b[39;00m p1\u001b[38;5;241m.\u001b[39mage\n\u001b[0;32m---> 22\u001b[0m \u001b[43mp1\u001b[49m\u001b[38;5;241;43m.\u001b[39;49m\u001b[43mmy_func\u001b[49m\u001b[43m(\u001b[49m\u001b[43m)\u001b[49m\n\u001b[1;32m     24\u001b[0m \u001b[38;5;66;03m#Delete Objects \u001b[39;00m\n\u001b[1;32m     25\u001b[0m \u001b[38;5;28;01mdel\u001b[39;00m p1\n",
      "Input \u001b[0;32mIn [1]\u001b[0m, in \u001b[0;36mPerson.my_func\u001b[0;34m(self)\u001b[0m\n\u001b[1;32m      7\u001b[0m \u001b[38;5;28;01mdef\u001b[39;00m \u001b[38;5;21mmy_func\u001b[39m(\u001b[38;5;28mself\u001b[39m):\n\u001b[0;32m----> 8\u001b[0m     \u001b[38;5;28mprint\u001b[39m(\u001b[38;5;124m\"\u001b[39m\u001b[38;5;124mHello Name is\u001b[39m\u001b[38;5;124m\"\u001b[39m,\u001b[38;5;28mself\u001b[39m\u001b[38;5;241m.\u001b[39mname,\u001b[38;5;124m\"\u001b[39m\u001b[38;5;124mand age is\u001b[39m\u001b[38;5;124m\"\u001b[39m,\u001b[38;5;28;43mself\u001b[39;49m\u001b[38;5;241;43m.\u001b[39;49m\u001b[43mage\u001b[49m)\n",
      "\u001b[0;31mAttributeError\u001b[0m: 'Person' object has no attribute 'age'"
     ]
    }
   ],
   "source": [
    "# Object Methods\n",
    "# Objects can also contain methods. Methods in objects are functions that belong to the object.\n",
    "class Person():\n",
    "    def __init__(self,name,age):\n",
    "        self.name=name\n",
    "        self.age=age\n",
    "    def my_func(self):\n",
    "        print(\"Hello Name is\",self.name,\"and age is\",self.age)\n",
    "#         age=self.age\n",
    "#         txt=\"Hello Name is\"+self.name+\"and age is {0}\"\n",
    "#         print(txt.format(age))\n",
    "\n",
    "p1=Person(\"Naseem\",25)\n",
    "p1.my_func()\n",
    "\n",
    "#Modify Object Properties\n",
    "p1.age=40\n",
    "p1.my_func()\n",
    "\n",
    "#Delete Object Properties with del Keywords\n",
    "del p1.age\n",
    "p1.my_func()\n",
    "\n",
    "#Delete Objects \n",
    "del p1\n",
    "p1.my_func()"
   ]
  },
  {
   "cell_type": "code",
   "execution_count": 14,
   "id": "a771fe25",
   "metadata": {},
   "outputs": [
    {
     "name": "stdout",
     "output_type": "stream",
     "text": [
      "Hello Name is Naseem and age is 25\n",
      "color is person white\n"
     ]
    }
   ],
   "source": [
    "#Class and Instance Variables\n",
    "#Instance variables are for data, unique to each instance and class variables are for attributes\n",
    "#and methods shared by all instances of the class\n",
    "\n",
    "class Person():\n",
    "    color='white'\n",
    "    def __init__(self,name,age):\n",
    "        self.name=name\n",
    "        self.age=age\n",
    "    def my_func(self):\n",
    "        print(\"Hello Name is\",self.name,\"and age is\",self.age)\n",
    "\n",
    "p1=Person(\"Naseem\",25)\n",
    "p1.my_func()\n",
    "print(\"color is person\",p1.color)"
   ]
  },
  {
   "cell_type": "code",
   "execution_count": 6,
   "id": "4fe6d596",
   "metadata": {},
   "outputs": [
    {
     "name": "stdout",
     "output_type": "stream",
     "text": [
      "Mohd Naseem 29\n"
     ]
    }
   ],
   "source": [
    "class Person:\n",
    "    def __init__(self, fname, lname):\n",
    "        self.firstname = fname\n",
    "        self.lastname = lname\n",
    "\n",
    "    def printname(self):\n",
    "        print(self.firstname, self.lastname,self.age)\n",
    "\n",
    "class Student(Person):\n",
    "    def __init__(self, fname, lname,age):\n",
    "        self.age=age\n",
    "        super().__init__(fname, lname)\n",
    "        \n",
    "obj=Student(\"Mohd\",\"Naseem\",29)\n",
    "obj.printname()"
   ]
  },
  {
   "cell_type": "code",
   "execution_count": 70,
   "id": "208210d9",
   "metadata": {},
   "outputs": [
    {
     "name": "stdout",
     "output_type": "stream",
     "text": [
      "I am Child Class Function\n",
      "I am Parent class Function\n"
     ]
    }
   ],
   "source": [
    "# What is inheritance work in python? Explain it with an example.\n",
    "# Single Inheritance :Single Inheritance is Child class derives members of one parent class.\n",
    "\n",
    "class ParentClass():\n",
    "    def parent_func(self):\n",
    "        print(\"I am Parent class Function\")\n",
    "class ChildClass(ParentClass):\n",
    "    def child_func(self):\n",
    "        print(\"I am Child Class Function\")\n",
    "        \n",
    "obj1=ChildClass()\n",
    "obj1.child_func()\n",
    "obj1.parent_func()"
   ]
  },
  {
   "cell_type": "code",
   "execution_count": 87,
   "id": "9fac8a44",
   "metadata": {},
   "outputs": [
    {
     "name": "stdout",
     "output_type": "stream",
     "text": [
      "Child\n",
      "A name is Child\n",
      "A name is Intermediate\n",
      "A name is Parent\n"
     ]
    }
   ],
   "source": [
    "#Multi-level Inheritance: The members of the parent class, A, are inherited by child class which is then inherited \n",
    "#by another child class, B. The features of the base class and the derived class are further inherited into the \n",
    "#new derived class, C. Here, A is the grandfather class of class C.\n",
    "\n",
    "#ParentClass\n",
    "class A():\n",
    "    def __init__(self,a_name):\n",
    "        self.a_name=a_name\n",
    "        \n",
    "# Intermediate class\n",
    "class B(A):\n",
    "    def __init__(self,b_name,a_name):\n",
    "        self.b_name=b_name\n",
    "         # invoke constructor of class A\n",
    "        A.__init__(self,a_name)\n",
    "\n",
    "#child class\n",
    "class C(B):\n",
    "    def __init__(self,c_name,b_name,a_name):\n",
    "        self.c_name=c_name\n",
    "          # invoke constructor of class B\n",
    "        B.__init__(self,b_name,a_name)\n",
    "        \n",
    "    def Display_func(self):\n",
    "        print(\"A name is\",self.a_name)\n",
    "        print(\"A name is\",self.b_name)\n",
    "        print(\"A name is\",self.c_name)\n",
    "        \n",
    "\n",
    "obj=C(\"Parent\",\"Intermediate\",\"Child\")\n",
    "\n",
    "print(obj.a_name)\n",
    "obj.Display_func()\n",
    "\n"
   ]
  },
  {
   "cell_type": "code",
   "execution_count": 3,
   "id": "c7bbeb22",
   "metadata": {},
   "outputs": [
    {
     "name": "stdout",
     "output_type": "stream",
     "text": [
      "Hi i am First parent classs\n",
      "Hi I am secounf parent classs\n"
     ]
    }
   ],
   "source": [
    "#Multiple Inheritance: This is achieved when one child class derives members from more than one parent class.\n",
    "#All features of parent classes are inherited in the child class.\n",
    "\n",
    "#Parent Class 1\n",
    "class Parent1():\n",
    "    def parent1_func(self):\n",
    "        print(\"Hi i am First parent classs\")\n",
    "class Parent2():\n",
    "    def parent2_func(self):\n",
    "        print(\"Hi I am secounf parent classs\")\n",
    "\n",
    "class Child(Parent1,Parent2):\n",
    "    def child_func(self):\n",
    "        self.parent1_func()\n",
    "        self.parent2_func()\n",
    "        \n",
    "obj=Child()\n",
    "obj.child_func()"
   ]
  },
  {
   "cell_type": "code",
   "execution_count": 13,
   "id": "eb49ff7f",
   "metadata": {},
   "outputs": [
    {
     "name": "stdout",
     "output_type": "stream",
     "text": [
      "Hi I am Parent class\n",
      "Hi I am First Child Class \n",
      "Hi I am Parent class\n",
      "Hi I am secound Child Class\n"
     ]
    }
   ],
   "source": [
    "#Hierarchical Inheritance: When a parent class is derived by more than one child class, \n",
    "#it is called hierarchical inheritance\n",
    "\n",
    "class A():\n",
    "    def parent_func(self):\n",
    "        print(\"Hi I am Parent class\")\n",
    "\n",
    "class B(A):\n",
    "    def child1_func(self):\n",
    "        print(\"Hi I am First Child Class \")\n",
    "        \n",
    "class C(A):\n",
    "    def child2_func(self):\n",
    "        print(\"Hi I am secound Child Class\")\n",
    "        \n",
    "#create object B (first Child class)\n",
    "obj=B()\n",
    "obj.parent_func()\n",
    "obj.child1_func()\n",
    "\n",
    "#create Object C (secound child class)\n",
    "obj1=C()\n",
    "obj1.parent_func()\n",
    "obj1.child2_func()\n",
    "\n",
    "\n"
   ]
  },
  {
   "cell_type": "code",
   "execution_count": 19,
   "id": "73d0e512",
   "metadata": {},
   "outputs": [
    {
     "name": "stdout",
     "output_type": "stream",
     "text": [
      "200\n"
     ]
    }
   ],
   "source": [
    "#Python Scope\n",
    "x = 300\n",
    "\n",
    "def myfunc():\n",
    "    global x\n",
    "    x=200\n",
    "\n",
    "myfunc()\n",
    "\n",
    "print(x)"
   ]
  },
  {
   "cell_type": "code",
   "execution_count": 20,
   "id": "de90d51f",
   "metadata": {},
   "outputs": [
    {
     "name": "stdout",
     "output_type": "stream",
     "text": [
      "{\"name\": \"John\", \"age\": 30, \"city\": \"New York\"}\n"
     ]
    }
   ],
   "source": [
    "#Convert from Python to JSON\n",
    "#if you have a Python object, you can convert it into a JSON string by using the json.dumps() method.\n",
    "\n",
    "import json\n",
    "\n",
    "# a Python object (dict):\n",
    "x = {\n",
    "  \"name\": \"John\",\n",
    "  \"age\": 30,\n",
    "  \"city\": \"New York\"\n",
    "}\n",
    "\n",
    "# convert into JSON:\n",
    "y = json.dumps(x)\n",
    "\n",
    "# the result is a JSON string:\n",
    "print(y) "
   ]
  },
  {
   "cell_type": "code",
   "execution_count": null,
   "id": "1165bfc7",
   "metadata": {},
   "outputs": [],
   "source": []
  },
  {
   "cell_type": "code",
   "execution_count": null,
   "id": "e5c7035c",
   "metadata": {},
   "outputs": [],
   "source": []
  }
 ],
 "metadata": {
  "kernelspec": {
   "display_name": "Python 3 (ipykernel)",
   "language": "python",
   "name": "python3"
  },
  "language_info": {
   "codemirror_mode": {
    "name": "ipython",
    "version": 3
   },
   "file_extension": ".py",
   "mimetype": "text/x-python",
   "name": "python",
   "nbconvert_exporter": "python",
   "pygments_lexer": "ipython3",
   "version": "3.8.10"
  }
 },
 "nbformat": 4,
 "nbformat_minor": 5
}
