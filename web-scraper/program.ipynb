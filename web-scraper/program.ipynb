{
 "cells": [
  {
   "cell_type": "code",
   "execution_count": 36,
   "id": "c27879dd",
   "metadata": {},
   "outputs": [
    {
     "name": "stdout",
     "output_type": "stream",
     "text": [
      "Enter Numbers5\n",
      "0\n",
      "1\n",
      "1\n",
      "2\n",
      "3\n"
     ]
    }
   ],
   "source": [
    "def fibo(n):\n",
    "    if (n<=1):\n",
    "        return n\n",
    "    else:\n",
    "        return(fibo(n-1)+fibo(n-2))\n",
    "n=int(input(\"Enter Numbers\"))\n",
    "for i in range(n):\n",
    "    print(fibo(i))"
   ]
  },
  {
   "cell_type": "code",
   "execution_count": 13,
   "id": "c6d6fa72",
   "metadata": {},
   "outputs": [
    {
     "name": "stdout",
     "output_type": "stream",
     "text": [
      "Enter Numbers 11\n",
      "1 * 5 = 5\n",
      "2 * 5 = 10\n",
      "3 * 5 = 15\n",
      "4 * 5 = 20\n",
      "5 * 5 = 25\n",
      "6 * 5 = 30\n",
      "7 * 5 = 35\n",
      "8 * 5 = 40\n",
      "9 * 5 = 45\n",
      "10 * 5 = 50\n"
     ]
    }
   ],
   "source": [
    "n=int(input(\"Enter Numbers \"))\n",
    "for i in range(1,n):\n",
    "    print(i,\"* 5\",'=',5*i)"
   ]
  },
  {
   "cell_type": "code",
   "execution_count": 34,
   "id": "10ef6033",
   "metadata": {},
   "outputs": [
    {
     "name": "stdout",
     "output_type": "stream",
     "text": [
      "1 * 5 = 5\n",
      "2 * 5 = 10\n",
      "3 * 5 = 15\n",
      "4 * 5 = 20\n",
      "5 * 5 = 25\n",
      "6 * 5 = 30\n",
      "7 * 5 = 35\n",
      "8 * 5 = 40\n",
      "9 * 5 = 45\n",
      "10 * 5 = 50\n",
      "None\n"
     ]
    }
   ],
   "source": [
    "def table(n):\n",
    "    for i in range(1,n):\n",
    "        print(i,\"* 5\",'=',5*i)\n",
    "#n=int(input(\"Enter Numbers \"))\n",
    "print(table(11))\n",
    "\n",
    "        "
   ]
  },
  {
   "cell_type": "code",
   "execution_count": 42,
   "id": "cb6c689e",
   "metadata": {},
   "outputs": [
    {
     "name": "stdout",
     "output_type": "stream",
     "text": [
      "Enter Numbers 20\n",
      "2\n",
      "3\n",
      "5\n",
      "7\n",
      "11\n",
      "13\n",
      "17\n",
      "19\n"
     ]
    }
   ],
   "source": [
    "#prime number\n",
    "n=int(input(\"Enter Numbers \"))\n",
    "for nums in range(n):\n",
    "    if nums>1:\n",
    "        for i in range(2,nums):\n",
    "            if nums%i==0:\n",
    "                break\n",
    "        else:\n",
    "            print(nums)"
   ]
  },
  {
   "cell_type": "code",
   "execution_count": 5,
   "id": "19ce6ec8",
   "metadata": {},
   "outputs": [
    {
     "name": "stdout",
     "output_type": "stream",
     "text": [
      "4321\n"
     ]
    }
   ],
   "source": [
    "#reverse of n numbers\n",
    "nums=1234\n",
    "rev=0\n",
    "while nums>0:\n",
    "    dig=nums%10\n",
    "    rev=rev*10+dig\n",
    "    nums//=10\n",
    "print(rev)"
   ]
  },
  {
   "cell_type": "code",
   "execution_count": 4,
   "id": "a3f0fb5b",
   "metadata": {},
   "outputs": [
    {
     "name": "stdout",
     "output_type": "stream",
     "text": [
      "10\n"
     ]
    }
   ],
   "source": [
    "#program to find sum of digits\n",
    "nums=1234\n",
    "sam=0\n",
    "while nums>0:\n",
    "    dig=nums%10\n",
    "    sam=sam+dig\n",
    "    nums//=10\n",
    "print(sam)"
   ]
  },
  {
   "cell_type": "code",
   "execution_count": 7,
   "id": "e1776479",
   "metadata": {},
   "outputs": [
    {
     "name": "stdout",
     "output_type": "stream",
     "text": [
      "1111 this number is palindrom\n"
     ]
    }
   ],
   "source": [
    "#palindrom a numbers\n",
    "nums=1111\n",
    "temp=nums\n",
    "rev=0\n",
    "while nums>0:\n",
    "    dig=nums%10\n",
    "    rev=rev*10+dig\n",
    "    nums//=10\n",
    "    \n",
    "if rev==temp:\n",
    "    print(temp,\"this number is palindrom\")\n",
    "else:\n",
    "    print(temp,\"this number is not palindrom\")\n",
    "    "
   ]
  },
  {
   "cell_type": "code",
   "execution_count": 4,
   "id": "3513e89e",
   "metadata": {},
   "outputs": [
    {
     "name": "stdout",
     "output_type": "stream",
     "text": [
      "Enter numbers 5\n",
      "120\n"
     ]
    }
   ],
   "source": [
    "#program to find factorial\n",
    "#4= 4*3*2*1= logic = 6,5,4,3,2,1 , 0!= 1\n",
    "#program to find factorial\n",
    "def fact(n):\n",
    "    if n<0:\n",
    "        print(\"factorial does not exit negetive numbers\")\n",
    "    elif n==0:\n",
    "        return 1\n",
    "    else:\n",
    "        return n*fact(n-1)\n",
    "    \n",
    "n=int(input(\"Enter numbers \"))    \n",
    "print(fact(n))"
   ]
  },
  {
   "cell_type": "code",
   "execution_count": 5,
   "id": "a235390a",
   "metadata": {},
   "outputs": [
    {
     "name": "stdout",
     "output_type": "stream",
     "text": [
      "dlroW olleH\n"
     ]
    }
   ],
   "source": [
    "str1=\"Hello World\"\n",
    "str2=\"\"\n",
    "for i in str1:\n",
    "    str2=i+str2\n",
    "    #str2=str1[::-1]\n",
    "print(str2)"
   ]
  },
  {
   "cell_type": "code",
   "execution_count": 6,
   "id": "133e743f",
   "metadata": {},
   "outputs": [
    {
     "name": "stdout",
     "output_type": "stream",
     "text": [
      "[0, 2, 4, 6, 8, 10, 12, 14, 16, 18, 20]\n"
     ]
    }
   ],
   "source": [
    "even_num=[]\n",
    "for i in range(21):\n",
    "    if i%2==0:\n",
    "        even_num.append(i)\n",
    "print(even_num)\n"
   ]
  },
  {
   "cell_type": "code",
   "execution_count": 9,
   "id": "6c4db715",
   "metadata": {},
   "outputs": [
    {
     "name": "stdout",
     "output_type": "stream",
     "text": [
      "[0, 1, 8, 27, 64, 125, 216, 343]\n",
      "[0.0, 1.0, 8.0, 27.0, 64.0, 125.0, 216.0]\n"
     ]
    }
   ],
   "source": [
    "import math\n",
    "#list comprehension\n",
    "cube=[i**3 for i in range(8)]\n",
    "print(cube)\n",
    "\n",
    "#list comprehension\n",
    "cube1=[math.pow(i,3) for i in range(7)]\n",
    "print(cube1)"
   ]
  },
  {
   "cell_type": "code",
   "execution_count": 8,
   "id": "86b4e658",
   "metadata": {},
   "outputs": [
    {
     "name": "stdout",
     "output_type": "stream",
     "text": [
      "[0, 2, 4, 6, 8, 10, 12, 14, 16, 18, 20]\n"
     ]
    }
   ],
   "source": [
    "#list comprehension\n",
    "even=[x for x in range(21) if x%2==0]\n",
    "print(even)"
   ]
  },
  {
   "cell_type": "code",
   "execution_count": null,
   "id": "29c22373",
   "metadata": {},
   "outputs": [],
   "source": []
  }
 ],
 "metadata": {
  "kernelspec": {
   "display_name": "Python 3 (ipykernel)",
   "language": "python",
   "name": "python3"
  },
  "language_info": {
   "codemirror_mode": {
    "name": "ipython",
    "version": 3
   },
   "file_extension": ".py",
   "mimetype": "text/x-python",
   "name": "python",
   "nbconvert_exporter": "python",
   "pygments_lexer": "ipython3",
   "version": "3.9.2"
  }
 },
 "nbformat": 4,
 "nbformat_minor": 5
}
